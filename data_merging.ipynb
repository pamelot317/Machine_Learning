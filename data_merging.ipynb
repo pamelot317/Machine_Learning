{
 "cells": [
  {
   "cell_type": "code",
   "execution_count": 1,
   "metadata": {
    "collapsed": true
   },
   "outputs": [],
   "source": [
    "import pandas as pd\n",
    "import numpy as np"
   ]
  },
  {
   "cell_type": "code",
   "execution_count": 36,
   "metadata": {
    "collapsed": false
   },
   "outputs": [],
   "source": [
    "path = '~/Dropbox/208/Project/'\n",
    "aapl = pd.read_csv(path+'WIKI_PRICES_AAPL.csv')\n",
    "googl = pd.read_csv(path+'WIKI_PRICES_GOOGL.csv')\n",
    "fool = pd.read_csv(path+'motley_with_s_scores.csv')"
   ]
  },
  {
   "cell_type": "code",
   "execution_count": 37,
   "metadata": {
    "collapsed": false
   },
   "outputs": [
    {
     "data": {
      "text/plain": [
       "(9959, 6)"
      ]
     },
     "execution_count": 37,
     "metadata": {},
     "output_type": "execute_result"
    }
   ],
   "source": [
    "fool.shape"
   ]
  },
  {
   "cell_type": "code",
   "execution_count": 38,
   "metadata": {
    "collapsed": false
   },
   "outputs": [
    {
     "data": {
      "text/html": [
       "<div>\n",
       "<table border=\"1\" class=\"dataframe\">\n",
       "  <thead>\n",
       "    <tr style=\"text-align: right;\">\n",
       "      <th></th>\n",
       "      <th>Unnamed: 0</th>\n",
       "      <th>article</th>\n",
       "      <th>date</th>\n",
       "      <th>title</th>\n",
       "      <th>url</th>\n",
       "      <th>sentiment</th>\n",
       "    </tr>\n",
       "  </thead>\n",
       "  <tbody>\n",
       "    <tr>\n",
       "      <th>0</th>\n",
       "      <td>0</td>\n",
       "      <td>Peer-to-peer (P2P) payments have been taking o...</td>\n",
       "      <td>Jun 6, 2017 at 2:05PM</td>\n",
       "      <td>3 Companies That Could Lose to Apple in P2P Pa...</td>\n",
       "      <td>http://www.fool.com/investing/2017/06/06/3-com...</td>\n",
       "      <td>5</td>\n",
       "    </tr>\n",
       "    <tr>\n",
       "      <th>1</th>\n",
       "      <td>1</td>\n",
       "      <td>There are few stocks that have created fortune...</td>\n",
       "      <td>Jun 6, 2017 at 12:33PM</td>\n",
       "      <td>3 Stocks That Feel Like Microsoft in 1986</td>\n",
       "      <td>http://www.fool.com/investing/2017/06/06/3-sto...</td>\n",
       "      <td>32</td>\n",
       "    </tr>\n",
       "    <tr>\n",
       "      <th>2</th>\n",
       "      <td>2</td>\n",
       "      <td>It's been about six months since Apple (NASDAQ...</td>\n",
       "      <td>Jun 6, 2017 at 10:00AM</td>\n",
       "      <td>Apple Music Is Already a $3.25 Billion Business</td>\n",
       "      <td>http://www.fool.com/investing/2017/06/06/apple...</td>\n",
       "      <td>6</td>\n",
       "    </tr>\n",
       "    <tr>\n",
       "      <th>3</th>\n",
       "      <td>3</td>\n",
       "      <td>Bloomberg's Mark Gurman recently published a s...</td>\n",
       "      <td>Jun 6, 2017 at 9:30AM</td>\n",
       "      <td>What You Need to Know About Apple Inc.'s Artif...</td>\n",
       "      <td>http://www.fool.com/investing/2017/06/06/what-...</td>\n",
       "      <td>10</td>\n",
       "    </tr>\n",
       "    <tr>\n",
       "      <th>4</th>\n",
       "      <td>4</td>\n",
       "      <td>With the iPhone 7-series of smartphones, micro...</td>\n",
       "      <td>Jun 6, 2017 at 8:30AM</td>\n",
       "      <td>What If Apple Inc. Cuts Intel Corporation Out ...</td>\n",
       "      <td>http://www.fool.com/investing/2017/06/06/what-...</td>\n",
       "      <td>2</td>\n",
       "    </tr>\n",
       "  </tbody>\n",
       "</table>\n",
       "</div>"
      ],
      "text/plain": [
       "   Unnamed: 0                                            article  \\\n",
       "0           0  Peer-to-peer (P2P) payments have been taking o...   \n",
       "1           1  There are few stocks that have created fortune...   \n",
       "2           2  It's been about six months since Apple (NASDAQ...   \n",
       "3           3  Bloomberg's Mark Gurman recently published a s...   \n",
       "4           4  With the iPhone 7-series of smartphones, micro...   \n",
       "\n",
       "                     date                                              title  \\\n",
       "0   Jun 6, 2017 at 2:05PM  3 Companies That Could Lose to Apple in P2P Pa...   \n",
       "1  Jun 6, 2017 at 12:33PM          3 Stocks That Feel Like Microsoft in 1986   \n",
       "2  Jun 6, 2017 at 10:00AM    Apple Music Is Already a $3.25 Billion Business   \n",
       "3   Jun 6, 2017 at 9:30AM  What You Need to Know About Apple Inc.'s Artif...   \n",
       "4   Jun 6, 2017 at 8:30AM  What If Apple Inc. Cuts Intel Corporation Out ...   \n",
       "\n",
       "                                                 url  sentiment  \n",
       "0  http://www.fool.com/investing/2017/06/06/3-com...          5  \n",
       "1  http://www.fool.com/investing/2017/06/06/3-sto...         32  \n",
       "2  http://www.fool.com/investing/2017/06/06/apple...          6  \n",
       "3  http://www.fool.com/investing/2017/06/06/what-...         10  \n",
       "4  http://www.fool.com/investing/2017/06/06/what-...          2  "
      ]
     },
     "execution_count": 38,
     "metadata": {},
     "output_type": "execute_result"
    }
   ],
   "source": [
    "fool.head()"
   ]
  },
  {
   "cell_type": "code",
   "execution_count": 39,
   "metadata": {
    "collapsed": false
   },
   "outputs": [
    {
     "data": {
      "text/html": [
       "<div>\n",
       "<table border=\"1\" class=\"dataframe\">\n",
       "  <thead>\n",
       "    <tr style=\"text-align: right;\">\n",
       "      <th></th>\n",
       "      <th>ticker</th>\n",
       "      <th>date</th>\n",
       "      <th>open</th>\n",
       "      <th>high</th>\n",
       "      <th>low</th>\n",
       "      <th>close</th>\n",
       "      <th>volume</th>\n",
       "      <th>ex-dividend</th>\n",
       "      <th>split_ratio</th>\n",
       "      <th>adj_open</th>\n",
       "      <th>adj_high</th>\n",
       "      <th>adj_low</th>\n",
       "      <th>adj_close</th>\n",
       "      <th>adj_volume</th>\n",
       "    </tr>\n",
       "  </thead>\n",
       "  <tbody>\n",
       "    <tr>\n",
       "      <th>0</th>\n",
       "      <td>AAPL</td>\n",
       "      <td>1980-12-12</td>\n",
       "      <td>28.75</td>\n",
       "      <td>28.87</td>\n",
       "      <td>28.75</td>\n",
       "      <td>28.75</td>\n",
       "      <td>2093900.0</td>\n",
       "      <td>0.0</td>\n",
       "      <td>1.0</td>\n",
       "      <td>0.424421</td>\n",
       "      <td>0.426193</td>\n",
       "      <td>0.424421</td>\n",
       "      <td>0.424421</td>\n",
       "      <td>117258400.0</td>\n",
       "    </tr>\n",
       "    <tr>\n",
       "      <th>1</th>\n",
       "      <td>AAPL</td>\n",
       "      <td>1980-12-15</td>\n",
       "      <td>27.38</td>\n",
       "      <td>27.38</td>\n",
       "      <td>27.25</td>\n",
       "      <td>27.25</td>\n",
       "      <td>785200.0</td>\n",
       "      <td>0.0</td>\n",
       "      <td>1.0</td>\n",
       "      <td>0.404196</td>\n",
       "      <td>0.404196</td>\n",
       "      <td>0.402277</td>\n",
       "      <td>0.402277</td>\n",
       "      <td>43971200.0</td>\n",
       "    </tr>\n",
       "    <tr>\n",
       "      <th>2</th>\n",
       "      <td>AAPL</td>\n",
       "      <td>1980-12-16</td>\n",
       "      <td>25.37</td>\n",
       "      <td>25.37</td>\n",
       "      <td>25.25</td>\n",
       "      <td>25.25</td>\n",
       "      <td>472000.0</td>\n",
       "      <td>0.0</td>\n",
       "      <td>1.0</td>\n",
       "      <td>0.374524</td>\n",
       "      <td>0.374524</td>\n",
       "      <td>0.372752</td>\n",
       "      <td>0.372752</td>\n",
       "      <td>26432000.0</td>\n",
       "    </tr>\n",
       "    <tr>\n",
       "      <th>3</th>\n",
       "      <td>AAPL</td>\n",
       "      <td>1980-12-17</td>\n",
       "      <td>25.87</td>\n",
       "      <td>26.00</td>\n",
       "      <td>25.87</td>\n",
       "      <td>25.87</td>\n",
       "      <td>385900.0</td>\n",
       "      <td>0.0</td>\n",
       "      <td>1.0</td>\n",
       "      <td>0.381905</td>\n",
       "      <td>0.383824</td>\n",
       "      <td>0.381905</td>\n",
       "      <td>0.381905</td>\n",
       "      <td>21610400.0</td>\n",
       "    </tr>\n",
       "    <tr>\n",
       "      <th>4</th>\n",
       "      <td>AAPL</td>\n",
       "      <td>1980-12-18</td>\n",
       "      <td>26.63</td>\n",
       "      <td>26.75</td>\n",
       "      <td>26.63</td>\n",
       "      <td>26.63</td>\n",
       "      <td>327900.0</td>\n",
       "      <td>0.0</td>\n",
       "      <td>1.0</td>\n",
       "      <td>0.393125</td>\n",
       "      <td>0.394896</td>\n",
       "      <td>0.393125</td>\n",
       "      <td>0.393125</td>\n",
       "      <td>18362400.0</td>\n",
       "    </tr>\n",
       "  </tbody>\n",
       "</table>\n",
       "</div>"
      ],
      "text/plain": [
       "  ticker        date   open   high    low  close     volume  ex-dividend  \\\n",
       "0   AAPL  1980-12-12  28.75  28.87  28.75  28.75  2093900.0          0.0   \n",
       "1   AAPL  1980-12-15  27.38  27.38  27.25  27.25   785200.0          0.0   \n",
       "2   AAPL  1980-12-16  25.37  25.37  25.25  25.25   472000.0          0.0   \n",
       "3   AAPL  1980-12-17  25.87  26.00  25.87  25.87   385900.0          0.0   \n",
       "4   AAPL  1980-12-18  26.63  26.75  26.63  26.63   327900.0          0.0   \n",
       "\n",
       "   split_ratio  adj_open  adj_high   adj_low  adj_close   adj_volume  \n",
       "0          1.0  0.424421  0.426193  0.424421   0.424421  117258400.0  \n",
       "1          1.0  0.404196  0.404196  0.402277   0.402277   43971200.0  \n",
       "2          1.0  0.374524  0.374524  0.372752   0.372752   26432000.0  \n",
       "3          1.0  0.381905  0.383824  0.381905   0.381905   21610400.0  \n",
       "4          1.0  0.393125  0.394896  0.393125   0.393125   18362400.0  "
      ]
     },
     "execution_count": 39,
     "metadata": {},
     "output_type": "execute_result"
    }
   ],
   "source": [
    "aapl.head()"
   ]
  },
  {
   "cell_type": "code",
   "execution_count": 41,
   "metadata": {
    "collapsed": false
   },
   "outputs": [
    {
     "data": {
      "text/plain": [
       "(9200, 14)"
      ]
     },
     "execution_count": 41,
     "metadata": {},
     "output_type": "execute_result"
    }
   ],
   "source": [
    "aapl.shape"
   ]
  },
  {
   "cell_type": "code",
   "execution_count": 42,
   "metadata": {
    "collapsed": false
   },
   "outputs": [],
   "source": [
    "def format_df(stock_df, news_df, word):\n",
    "    stock_df['diff'] = stock_df['close']-stock_df['open']\n",
    "    news_df['Count'] = news_df['article'].apply(lambda x: x.count(word))\n",
    "    news_df.loc[news_df['Count'] <= 5, 'sentiment'] = 0\n",
    "    news_df['date'] = pd.to_datetime(news_df['date'])\n",
    "    news_df['date'] = news_df['date'].dt.strftime('%Y-%m-%d')\n",
    "    news_df = news_df.groupby(['date'], as_index = False).sum()\n",
    "    news_df = news_df[['date', 'sentiment', 'Count']]\n",
    "    merged_df = pd.merge(news_df, stock_df)\n",
    "    merged_df['bin_sentiment'] = pd.cut(merged_df['sentiment'], [-np.inf, -0.001, 0.001, np.inf], labels = [-1, 0, 1])\n",
    "    merged_df['bin_diff'] = pd.cut(merged_df['diff'], [-np.inf, -0.001, 0.001, np.inf], labels = [-1, 0, 1])\n",
    "    return merged_df   "
   ]
  },
  {
   "cell_type": "code",
   "execution_count": 43,
   "metadata": {
    "collapsed": false
   },
   "outputs": [],
   "source": [
    "merged_df = format_df(aapl, fool, 'Apple')"
   ]
  },
  {
   "cell_type": "code",
   "execution_count": 44,
   "metadata": {
    "collapsed": false
   },
   "outputs": [
    {
     "data": {
      "text/html": [
       "<div>\n",
       "<table border=\"1\" class=\"dataframe\">\n",
       "  <thead>\n",
       "    <tr style=\"text-align: right;\">\n",
       "      <th></th>\n",
       "      <th>date</th>\n",
       "      <th>sentiment</th>\n",
       "      <th>Count</th>\n",
       "      <th>ticker</th>\n",
       "      <th>open</th>\n",
       "      <th>high</th>\n",
       "      <th>low</th>\n",
       "      <th>close</th>\n",
       "      <th>volume</th>\n",
       "      <th>ex-dividend</th>\n",
       "      <th>split_ratio</th>\n",
       "      <th>adj_open</th>\n",
       "      <th>adj_high</th>\n",
       "      <th>adj_low</th>\n",
       "      <th>adj_close</th>\n",
       "      <th>adj_volume</th>\n",
       "      <th>diff</th>\n",
       "      <th>bin_sentiment</th>\n",
       "      <th>bin_diff</th>\n",
       "    </tr>\n",
       "  </thead>\n",
       "  <tbody>\n",
       "    <tr>\n",
       "      <th>0</th>\n",
       "      <td>2014-05-05</td>\n",
       "      <td>53</td>\n",
       "      <td>133</td>\n",
       "      <td>AAPL</td>\n",
       "      <td>590.14</td>\n",
       "      <td>601.0000</td>\n",
       "      <td>590.00</td>\n",
       "      <td>600.9600</td>\n",
       "      <td>10252400.0</td>\n",
       "      <td>0.00</td>\n",
       "      <td>1.0</td>\n",
       "      <td>79.229879</td>\n",
       "      <td>80.687900</td>\n",
       "      <td>79.211083</td>\n",
       "      <td>80.682530</td>\n",
       "      <td>71766800.0</td>\n",
       "      <td>10.8200</td>\n",
       "      <td>1</td>\n",
       "      <td>1</td>\n",
       "    </tr>\n",
       "    <tr>\n",
       "      <th>1</th>\n",
       "      <td>2014-05-06</td>\n",
       "      <td>15</td>\n",
       "      <td>177</td>\n",
       "      <td>AAPL</td>\n",
       "      <td>601.80</td>\n",
       "      <td>604.4099</td>\n",
       "      <td>594.41</td>\n",
       "      <td>594.4100</td>\n",
       "      <td>13377300.0</td>\n",
       "      <td>0.00</td>\n",
       "      <td>1.0</td>\n",
       "      <td>80.795305</td>\n",
       "      <td>81.145700</td>\n",
       "      <td>79.803152</td>\n",
       "      <td>79.803152</td>\n",
       "      <td>93641100.0</td>\n",
       "      <td>-7.3900</td>\n",
       "      <td>1</td>\n",
       "      <td>-1</td>\n",
       "    </tr>\n",
       "    <tr>\n",
       "      <th>2</th>\n",
       "      <td>2014-05-07</td>\n",
       "      <td>40</td>\n",
       "      <td>134</td>\n",
       "      <td>AAPL</td>\n",
       "      <td>595.25</td>\n",
       "      <td>597.2900</td>\n",
       "      <td>587.73</td>\n",
       "      <td>592.3300</td>\n",
       "      <td>10102300.0</td>\n",
       "      <td>0.00</td>\n",
       "      <td>1.0</td>\n",
       "      <td>79.915927</td>\n",
       "      <td>80.189810</td>\n",
       "      <td>78.906322</td>\n",
       "      <td>79.523900</td>\n",
       "      <td>70716100.0</td>\n",
       "      <td>-2.9200</td>\n",
       "      <td>1</td>\n",
       "      <td>-1</td>\n",
       "    </tr>\n",
       "    <tr>\n",
       "      <th>3</th>\n",
       "      <td>2014-05-08</td>\n",
       "      <td>31</td>\n",
       "      <td>109</td>\n",
       "      <td>AAPL</td>\n",
       "      <td>588.25</td>\n",
       "      <td>594.4100</td>\n",
       "      <td>586.40</td>\n",
       "      <td>587.9900</td>\n",
       "      <td>8224900.0</td>\n",
       "      <td>3.29</td>\n",
       "      <td>1.0</td>\n",
       "      <td>79.418033</td>\n",
       "      <td>80.249678</td>\n",
       "      <td>79.168269</td>\n",
       "      <td>79.382931</td>\n",
       "      <td>57574300.0</td>\n",
       "      <td>-0.2600</td>\n",
       "      <td>1</td>\n",
       "      <td>-1</td>\n",
       "    </tr>\n",
       "    <tr>\n",
       "      <th>4</th>\n",
       "      <td>2014-05-09</td>\n",
       "      <td>3</td>\n",
       "      <td>67</td>\n",
       "      <td>AAPL</td>\n",
       "      <td>584.54</td>\n",
       "      <td>586.2500</td>\n",
       "      <td>580.33</td>\n",
       "      <td>585.5425</td>\n",
       "      <td>10414200.0</td>\n",
       "      <td>0.00</td>\n",
       "      <td>1.0</td>\n",
       "      <td>78.917156</td>\n",
       "      <td>79.148018</td>\n",
       "      <td>78.348775</td>\n",
       "      <td>79.052500</td>\n",
       "      <td>72899400.0</td>\n",
       "      <td>1.0025</td>\n",
       "      <td>1</td>\n",
       "      <td>1</td>\n",
       "    </tr>\n",
       "  </tbody>\n",
       "</table>\n",
       "</div>"
      ],
      "text/plain": [
       "         date  sentiment  Count ticker    open      high     low     close  \\\n",
       "0  2014-05-05         53    133   AAPL  590.14  601.0000  590.00  600.9600   \n",
       "1  2014-05-06         15    177   AAPL  601.80  604.4099  594.41  594.4100   \n",
       "2  2014-05-07         40    134   AAPL  595.25  597.2900  587.73  592.3300   \n",
       "3  2014-05-08         31    109   AAPL  588.25  594.4100  586.40  587.9900   \n",
       "4  2014-05-09          3     67   AAPL  584.54  586.2500  580.33  585.5425   \n",
       "\n",
       "       volume  ex-dividend  split_ratio   adj_open   adj_high    adj_low  \\\n",
       "0  10252400.0         0.00          1.0  79.229879  80.687900  79.211083   \n",
       "1  13377300.0         0.00          1.0  80.795305  81.145700  79.803152   \n",
       "2  10102300.0         0.00          1.0  79.915927  80.189810  78.906322   \n",
       "3   8224900.0         3.29          1.0  79.418033  80.249678  79.168269   \n",
       "4  10414200.0         0.00          1.0  78.917156  79.148018  78.348775   \n",
       "\n",
       "   adj_close  adj_volume     diff bin_sentiment bin_diff  \n",
       "0  80.682530  71766800.0  10.8200             1        1  \n",
       "1  79.803152  93641100.0  -7.3900             1       -1  \n",
       "2  79.523900  70716100.0  -2.9200             1       -1  \n",
       "3  79.382931  57574300.0  -0.2600             1       -1  \n",
       "4  79.052500  72899400.0   1.0025             1        1  "
      ]
     },
     "execution_count": 44,
     "metadata": {},
     "output_type": "execute_result"
    }
   ],
   "source": [
    "merged_df.head()"
   ]
  },
  {
   "cell_type": "code",
   "execution_count": 45,
   "metadata": {
    "collapsed": false
   },
   "outputs": [
    {
     "data": {
      "text/plain": [
       "(779, 19)"
      ]
     },
     "execution_count": 45,
     "metadata": {},
     "output_type": "execute_result"
    }
   ],
   "source": [
    "merged_df.shape"
   ]
  },
  {
   "cell_type": "code",
   "execution_count": 46,
   "metadata": {
    "collapsed": false
   },
   "outputs": [],
   "source": [
    "merged_df.to_csv('merged_df.csv', encoding='utf-8')"
   ]
  },
  {
   "cell_type": "code",
   "execution_count": null,
   "metadata": {
    "collapsed": true
   },
   "outputs": [],
   "source": []
  }
 ],
 "metadata": {
  "anaconda-cloud": {},
  "kernelspec": {
   "display_name": "Python [default]",
   "language": "python",
   "name": "python2"
  },
  "language_info": {
   "codemirror_mode": {
    "name": "ipython",
    "version": 2
   },
   "file_extension": ".py",
   "mimetype": "text/x-python",
   "name": "python",
   "nbconvert_exporter": "python",
   "pygments_lexer": "ipython2",
   "version": "2.7.12"
  }
 },
 "nbformat": 4,
 "nbformat_minor": 2
}
