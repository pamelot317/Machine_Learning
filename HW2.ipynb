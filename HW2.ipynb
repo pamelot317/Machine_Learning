{
 "cells": [
  {
   "cell_type": "markdown",
   "metadata": {},
   "source": [
    "# STA 208: Homework 2\n",
    "This is based on the material in Chapters 3, 4.4 of 'Elements of Statistical Learning' (ESL), in addition to lectures 4-6.  Chunzhe Zhang came up with the dataset and the analysis in the second section."
   ]
  },
  {
   "cell_type": "markdown",
   "metadata": {},
   "source": [
    "## Instructions\n",
    "\n",
    "We use a script that extracts your answers by looking for cells in between the cells containing the exercise statements (beginning with __Exercise X.X__).  So you \n",
    "\n",
    "- MUST add cells in between the exercise statements and add answers within them and\n",
    "- MUST NOT modify the existing cells, particularly not the problem statement\n",
    "\n",
    "To make markdown, please switch the cell type to markdown (from code) - you can hit 'm' when you are in command mode - and use the markdown language.  For a brief tutorial see: https://daringfireball.net/projects/markdown/syntax\n",
    "\n",
    "In the conceptual exercises you should provide an explanation, with math when necessary, for any answers.  When answering with math you should use basic LaTeX, as in \n",
    "$$E(Y|X=x) = \\int_{\\mathcal{Y}} f_{Y|X}(y|x) dy = \\int_{\\mathcal{Y}} \\frac{f_{Y,X}(y,x)}{f_{X}(x)} dy$$\n",
    "for displayed equations, and $R_{i,j} = 2^{-|i-j|}$ for inline equations.  (To see the contents of this cell in markdown, double click on it or hit Enter in escape mode.)  To see a list of latex math symbols see here: http://web.ift.uib.no/Teori/KURS/WRK/TeX/symALL.html"
   ]
  },
  {
   "cell_type": "markdown",
   "metadata": {},
   "source": [
    "# 1. Conceptual Exercises"
   ]
  },
  {
   "cell_type": "markdown",
   "metadata": {},
   "source": [
    "__Exercise 1.1.__ (5 pts) Ex. 3.29 in ESL "
   ]
  },
  {
   "cell_type": "markdown",
   "metadata": {},
   "source": [
    "__Solution:__  \n",
    "Let $X$ be the $n x p$ feature matrix, and $y$ be the $n$-vector. Then $\\hat\\beta^{ridge} = min_{\\beta}||X\\beta - y||^2_2 - \\lambda||\\beta||^2$, and $\\beta = (X^TX + \\lambda I)^{-1}X^Ty \\Rightarrow \\beta = \\frac{X^Ty}{X^TX+\\lambda}$ in this case.  \n",
    "Now with $X^*$, the feature matrix is $[XX]_{nx2p}$, so $\\hat\\beta^{ridge} = min_{\\beta}||X\\beta_1+X\\beta_2-y||^2_2 + \\lambda||\\beta_1||^2+\\lambda||\\beta_2||^2$.  \n",
    "The partial derivative wrt $\\beta_1$: $2X^T(X\\beta_1+X\\beta_2-y)+2\\lambda\\beta_1=0$  \n",
    "The partial derivative wrt $\\beta_2$: $2X^T(X\\beta_1+X\\beta_2-y)+2\\lambda\\beta_2=0$  \n",
    "$\\Rightarrow \\beta_1=\\beta_2=\\frac{X^Ty}{2X^TX+\\lambda} = \\frac{X^TX+\\lambda}{2X^TX+\\lambda}\\beta$.  \n",
    "By induction, we can do this for $m$ copies of $X$. "
   ]
  },
  {
   "cell_type": "markdown",
   "metadata": {},
   "source": [
    "__Exercise 1.2__ (5 pts) Ex. 3.30 in ESL"
   ]
  },
  {
   "cell_type": "markdown",
   "metadata": {},
   "source": [
    "__Solution:__  \n",
    "Let $\\tilde X = (X \\ \\ aI)^T$. Then $\\tilde X\\beta = (X\\beta \\ \\ a\\beta)^T$.  \n",
    "Let $\\tilde y = (y \\ \\ 0)^T$.  \n",
    "Then $||\\tilde y - \\tilde X\\beta||^2_2 = ||(y - X\\beta \\ \\ a\\beta)^T||^2_2 = ||y - X\\beta||^2_2 + a^2||\\beta||^2_2$.  \n",
    "A lasso problem for this is  \n",
    "$\\hat\\beta = argmin_\\beta(||\\tilde y - \\tilde X\\beta||^2_2 + \\tilde \\lambda ||\\beta||_1)$.  \n",
    "If we let $a^2 = \\lambda \\alpha$ and $\\tilde \\lambda = \\lambda (1-\\alpha)$, the lasso problem looks like our original problem. "
   ]
  },
  {
   "cell_type": "markdown",
   "metadata": {},
   "source": [
    "__Exercise 1.3__ (5 pts) $Y \\in \\{0,1\\}$ follows an exponential family model with natural parameter $\\eta$ if\n",
    "$$P(Y=y) = \\exp\\left( y \\eta - \\psi(\\eta) \\right).$$\n",
    "Show that when $\\eta = x^\\top \\beta$ then $Y$ follows a logistic regression model."
   ]
  },
  {
   "cell_type": "markdown",
   "metadata": {},
   "source": [
    "__Solution:__  \n",
    "Notice that $P(Y=0)+P(Y=1)=1$ since $Y \\in [0,1]$.  \n",
    "So then $exp(-\\psi (x^T\\beta)) + exp(x^T\\beta - \\psi (x^T\\beta)) = 1$  \n",
    "$exp(-\\psi (x^T\\beta))(1 + exp(x^T\\beta)) = 1$  \n",
    "$exp(-\\psi (x^T\\beta)) = \\frac{1}{1+exp(x^T\\beta)}$\n",
    "$\\Rightarrow \\psi (x^T\\beta) = ln(1+exp(x^T\\beta))$  \n",
    "So $P(Y = y) = exp(yx^T\\beta)exp(-ln(1+exp(x^T\\beta))) = frac{exp(yx^T\\beta)}{1+exp(x^T\\beta)}$,  \n",
    "which is a logistic regression model. \n"
   ]
  },
  {
   "cell_type": "markdown",
   "metadata": {},
   "source": [
    "# 2. Data Analysis"
   ]
  },
  {
   "cell_type": "code",
   "execution_count": 102,
   "metadata": {
    "collapsed": false
   },
   "outputs": [],
   "source": [
    "import numpy as np\n",
    "import pandas as pd\n",
    "\n",
    "from sklearn.preprocessing import scale \n",
    "from sklearn.linear_model import LinearRegression, Ridge, RidgeCV, Lasso, LassoCV, lars_path, LogisticRegression\n",
    "from sklearn.decomposition import PCA\n",
    "from sklearn.metrics import mean_squared_error\n",
    "import matplotlib.pyplot as plt\n",
    "%matplotlib inline\n",
    "\n",
    "\n",
    "# dataset path\n",
    "data_dir = \"~/Dropbox/208/208-HW2-pamelot317\""
   ]
  },
  {
   "cell_type": "markdown",
   "metadata": {},
   "source": [
    "Load the following medical dataset with 750 patients. The response variable is survival dates (Y), the predictors are 104 measurements measured at a specific time (numerical variables have been standardized)."
   ]
  },
  {
   "cell_type": "code",
   "execution_count": 2,
   "metadata": {
    "collapsed": false
   },
   "outputs": [],
   "source": [
    "sample_data = pd.read_csv(data_dir+\"/hw2.csv\", delimiter=',')"
   ]
  },
  {
   "cell_type": "code",
   "execution_count": 3,
   "metadata": {
    "collapsed": false
   },
   "outputs": [
    {
     "data": {
      "text/html": [
       "<div>\n",
       "<table border=\"1\" class=\"dataframe\">\n",
       "  <thead>\n",
       "    <tr style=\"text-align: right;\">\n",
       "      <th></th>\n",
       "      <th>Y</th>\n",
       "      <th>V1</th>\n",
       "      <th>V2</th>\n",
       "      <th>V3</th>\n",
       "      <th>V4</th>\n",
       "      <th>V5</th>\n",
       "      <th>V6</th>\n",
       "      <th>V7</th>\n",
       "      <th>V8</th>\n",
       "      <th>V9</th>\n",
       "      <th>...</th>\n",
       "      <th>V95</th>\n",
       "      <th>V96</th>\n",
       "      <th>V97</th>\n",
       "      <th>V98</th>\n",
       "      <th>V99</th>\n",
       "      <th>V100</th>\n",
       "      <th>V101</th>\n",
       "      <th>V102</th>\n",
       "      <th>V103</th>\n",
       "      <th>V104</th>\n",
       "    </tr>\n",
       "  </thead>\n",
       "  <tbody>\n",
       "    <tr>\n",
       "      <th>0</th>\n",
       "      <td>1498</td>\n",
       "      <td>No</td>\n",
       "      <td>0.171838</td>\n",
       "      <td>-0.081764</td>\n",
       "      <td>-1.448868</td>\n",
       "      <td>-1.302547</td>\n",
       "      <td>-0.143061</td>\n",
       "      <td>-0.339784</td>\n",
       "      <td>-1.206475</td>\n",
       "      <td>0.444493</td>\n",
       "      <td>...</td>\n",
       "      <td>-1.379066</td>\n",
       "      <td>0.420436</td>\n",
       "      <td>-0.827446</td>\n",
       "      <td>0.318695</td>\n",
       "      <td>-0.787409</td>\n",
       "      <td>0.351406</td>\n",
       "      <td>-0.836107</td>\n",
       "      <td>0.015502</td>\n",
       "      <td>0.435444</td>\n",
       "      <td>-0.879906</td>\n",
       "    </tr>\n",
       "    <tr>\n",
       "      <th>1</th>\n",
       "      <td>334</td>\n",
       "      <td>Yes</td>\n",
       "      <td>-0.605767</td>\n",
       "      <td>-0.584360</td>\n",
       "      <td>-0.485169</td>\n",
       "      <td>-0.848111</td>\n",
       "      <td>-0.493546</td>\n",
       "      <td>-0.392332</td>\n",
       "      <td>-0.239788</td>\n",
       "      <td>0.421697</td>\n",
       "      <td>...</td>\n",
       "      <td>0.398840</td>\n",
       "      <td>-0.434789</td>\n",
       "      <td>-0.698862</td>\n",
       "      <td>1.387219</td>\n",
       "      <td>0.948456</td>\n",
       "      <td>0.191397</td>\n",
       "      <td>1.451699</td>\n",
       "      <td>-1.243616</td>\n",
       "      <td>-0.699072</td>\n",
       "      <td>1.751434</td>\n",
       "    </tr>\n",
       "    <tr>\n",
       "      <th>2</th>\n",
       "      <td>845</td>\n",
       "      <td>Yes</td>\n",
       "      <td>-0.266330</td>\n",
       "      <td>-0.126965</td>\n",
       "      <td>0.138401</td>\n",
       "      <td>0.262732</td>\n",
       "      <td>-0.202438</td>\n",
       "      <td>0.397194</td>\n",
       "      <td>0.137790</td>\n",
       "      <td>0.047847</td>\n",
       "      <td>...</td>\n",
       "      <td>-0.450999</td>\n",
       "      <td>-0.627830</td>\n",
       "      <td>0.677158</td>\n",
       "      <td>-0.140255</td>\n",
       "      <td>-0.798641</td>\n",
       "      <td>-0.972419</td>\n",
       "      <td>-0.852035</td>\n",
       "      <td>0.080914</td>\n",
       "      <td>-1.906252</td>\n",
       "      <td>0.705509</td>\n",
       "    </tr>\n",
       "    <tr>\n",
       "      <th>3</th>\n",
       "      <td>1484</td>\n",
       "      <td>No</td>\n",
       "      <td>0.113498</td>\n",
       "      <td>0.893293</td>\n",
       "      <td>-0.825298</td>\n",
       "      <td>-0.444168</td>\n",
       "      <td>0.756242</td>\n",
       "      <td>0.179122</td>\n",
       "      <td>-1.145078</td>\n",
       "      <td>-1.471261</td>\n",
       "      <td>...</td>\n",
       "      <td>0.316312</td>\n",
       "      <td>0.131010</td>\n",
       "      <td>0.878134</td>\n",
       "      <td>-0.306249</td>\n",
       "      <td>-1.263270</td>\n",
       "      <td>1.316120</td>\n",
       "      <td>-0.999717</td>\n",
       "      <td>1.104161</td>\n",
       "      <td>-0.234038</td>\n",
       "      <td>-0.083488</td>\n",
       "    </tr>\n",
       "    <tr>\n",
       "      <th>4</th>\n",
       "      <td>301</td>\n",
       "      <td>Yes</td>\n",
       "      <td>-0.620454</td>\n",
       "      <td>-0.608036</td>\n",
       "      <td>-0.088352</td>\n",
       "      <td>0.111253</td>\n",
       "      <td>-0.598898</td>\n",
       "      <td>-0.513191</td>\n",
       "      <td>0.753000</td>\n",
       "      <td>1.055418</td>\n",
       "      <td>...</td>\n",
       "      <td>0.364884</td>\n",
       "      <td>0.251667</td>\n",
       "      <td>0.373787</td>\n",
       "      <td>-0.354599</td>\n",
       "      <td>0.085019</td>\n",
       "      <td>1.207509</td>\n",
       "      <td>-0.762206</td>\n",
       "      <td>-0.067318</td>\n",
       "      <td>0.158247</td>\n",
       "      <td>0.592638</td>\n",
       "    </tr>\n",
       "  </tbody>\n",
       "</table>\n",
       "<p>5 rows × 105 columns</p>\n",
       "</div>"
      ],
      "text/plain": [
       "      Y   V1        V2        V3        V4        V5        V6        V7  \\\n",
       "0  1498   No  0.171838 -0.081764 -1.448868 -1.302547 -0.143061 -0.339784   \n",
       "1   334  Yes -0.605767 -0.584360 -0.485169 -0.848111 -0.493546 -0.392332   \n",
       "2   845  Yes -0.266330 -0.126965  0.138401  0.262732 -0.202438  0.397194   \n",
       "3  1484   No  0.113498  0.893293 -0.825298 -0.444168  0.756242  0.179122   \n",
       "4   301  Yes -0.620454 -0.608036 -0.088352  0.111253 -0.598898 -0.513191   \n",
       "\n",
       "         V8        V9    ...          V95       V96       V97       V98  \\\n",
       "0 -1.206475  0.444493    ...    -1.379066  0.420436 -0.827446  0.318695   \n",
       "1 -0.239788  0.421697    ...     0.398840 -0.434789 -0.698862  1.387219   \n",
       "2  0.137790  0.047847    ...    -0.450999 -0.627830  0.677158 -0.140255   \n",
       "3 -1.145078 -1.471261    ...     0.316312  0.131010  0.878134 -0.306249   \n",
       "4  0.753000  1.055418    ...     0.364884  0.251667  0.373787 -0.354599   \n",
       "\n",
       "        V99      V100      V101      V102      V103      V104  \n",
       "0 -0.787409  0.351406 -0.836107  0.015502  0.435444 -0.879906  \n",
       "1  0.948456  0.191397  1.451699 -1.243616 -0.699072  1.751434  \n",
       "2 -0.798641 -0.972419 -0.852035  0.080914 -1.906252  0.705509  \n",
       "3 -1.263270  1.316120 -0.999717  1.104161 -0.234038 -0.083488  \n",
       "4  0.085019  1.207509 -0.762206 -0.067318  0.158247  0.592638  \n",
       "\n",
       "[5 rows x 105 columns]"
      ]
     },
     "execution_count": 3,
     "metadata": {},
     "output_type": "execute_result"
    }
   ],
   "source": [
    "sample_data.head()"
   ]
  },
  {
   "cell_type": "code",
   "execution_count": 4,
   "metadata": {
    "collapsed": false
   },
   "outputs": [],
   "source": [
    "sample_data.V1 = sample_data.V1.eq('Yes').mul(1)"
   ]
  },
  {
   "cell_type": "markdown",
   "metadata": {},
   "source": [
    "The response variable is Y for 2.1-2.3 and Z for 2.4. "
   ]
  },
  {
   "cell_type": "code",
   "execution_count": 5,
   "metadata": {
    "collapsed": false
   },
   "outputs": [],
   "source": [
    "X = np.array(sample_data.iloc[:,range(2,104)])\n",
    "y = np.array(sample_data.iloc[:,0])\n",
    "z = np.array(sample_data.iloc[:,1])"
   ]
  },
  {
   "cell_type": "markdown",
   "metadata": {},
   "source": [
    "__Exercise 2.1__ (10 pts) Perform ridge regression on the method and cross-validate to find the best ridge parameter."
   ]
  },
  {
   "cell_type": "code",
   "execution_count": 168,
   "metadata": {
    "collapsed": false
   },
   "outputs": [],
   "source": [
    "X = scale(X)\n",
    "alphas = 10**np.linspace(10,-2,100)*0.5\n",
    "#alphas = np.linspace(30,1,100)\n",
    "#alphas = np.linspace(1,1e-5,100)\n",
    "rcv = RidgeCV(alphas = alphas, store_cv_values=True,normalize=True)\n",
    "rcv.fit(X,y)\n",
    "cv_vals = rcv.cv_values_"
   ]
  },
  {
   "cell_type": "code",
   "execution_count": 169,
   "metadata": {
    "collapsed": false
   },
   "outputs": [
    {
     "data": {
      "text/plain": [
       "0.0050000000000000001"
      ]
     },
     "execution_count": 169,
     "metadata": {},
     "output_type": "execute_result"
    }
   ],
   "source": [
    "rcv.alpha_"
   ]
  },
  {
   "cell_type": "code",
   "execution_count": 170,
   "metadata": {
    "collapsed": false
   },
   "outputs": [
    {
     "data": {
      "text/plain": [
       "242417.70072878039"
      ]
     },
     "execution_count": 170,
     "metadata": {},
     "output_type": "execute_result"
    }
   ],
   "source": [
    "ridge = Ridge(alpha=rcv.alpha_)\n",
    "ridge.fit(scale(X), y)\n",
    "pred = ridge.predict(scale(X))\n",
    "mean_squared_error(y, pred)"
   ]
  },
  {
   "cell_type": "markdown",
   "metadata": {},
   "source": [
    "By experimenting with different sets of alphas in the code, we can see that the best MSE that we can attain is approximately 242417. Even when the best ridge parameter is 0, the MSE is the same. This would indicate that ordinary OLS is better for this data than ridge regression. "
   ]
  },
  {
   "cell_type": "markdown",
   "metadata": {},
   "source": [
    "__Exercise 2.2__ (10 pts) Plot the lasso and lars path for each of the coefficients.  All coefficients for a given method should be on the same plot, you should get 2 plots.  What are the major differences, if any?  Are there any 'leaving' events in the lasso path?"
   ]
  },
  {
   "cell_type": "code",
   "execution_count": 115,
   "metadata": {
    "collapsed": false
   },
   "outputs": [
    {
     "data": {
      "image/png": "[encoded data removed]",
      "text/plain": [
       "<matplotlib.figure.Figure at 0x1113a6ad0>"
      ]
     },
     "metadata": {},
     "output_type": "display_data"
    }
   ],
   "source": [
    "larper = lars_path(X,y,method=\"lasso\")\n",
    "S = 102\n",
    "for j in range(S):\n",
    "    _ = plt.plot(larper[0],larper[2][j,:],'k')\n",
    "_ = plt.title('Lasso path for simulated data')\n",
    "_ = plt.xlabel('lambda')\n",
    "_ = plt.ylabel('Coef')"
   ]
  },
  {
   "cell_type": "code",
   "execution_count": 116,
   "metadata": {
    "collapsed": false
   },
   "outputs": [
    {
     "data": {
      "image/png": "[encoded data removed]",
      "text/plain": [
       "<matplotlib.figure.Figure at 0x114e5d910>"
      ]
     },
     "metadata": {},
     "output_type": "display_data"
    }
   ],
   "source": [
    "larper1 = lars_path(X,y,method=\"lar\")\n",
    "S = 102\n",
    "for j in range(S):\n",
    "    _ = plt.plot(larper1[0],larper1[2][j,:],'k')\n",
    "_ = plt.title('LAR path for simulated data')\n",
    "_ = plt.xlabel('lambda')\n",
    "_ = plt.ylabel('Coef')"
   ]
  },
  {
   "cell_type": "markdown",
   "metadata": {},
   "source": [
    "There are no major differences between the two plots, except that the lasso path is thicker at zero, indicating that the coefficients reach zero. We can see that for large lambda values, the coefficients tend towards zero. The very large coefficient takes a long time to tend towards zero."
   ]
  },
  {
   "cell_type": "markdown",
   "metadata": {},
   "source": [
    "__Exercise 2.3__ (10 pts) Cross-validate the Lasso and compare the results to the answer to 2.1."
   ]
  },
  {
   "cell_type": "code",
   "execution_count": 171,
   "metadata": {
    "collapsed": false
   },
   "outputs": [
    {
     "data": {
      "text/plain": [
       "LassoCV(alphas=array([  5.00000e+09,   3.78232e+09, ...,   6.60971e-03,   5.00000e-03]),\n",
       "    copy_X=True, cv=None, eps=0.001, fit_intercept=True, max_iter=1000,\n",
       "    n_alphas=100, n_jobs=1, normalize=True, positive=False,\n",
       "    precompute='auto', random_state=None, selection='cyclic', tol=0.0001,\n",
       "    verbose=False)"
      ]
     },
     "execution_count": 171,
     "metadata": {},
     "output_type": "execute_result"
    }
   ],
   "source": [
    "lassocv = LassoCV(alphas=alphas, normalize = True)\n",
    "lassocv.fit(X,y)"
   ]
  },
  {
   "cell_type": "code",
   "execution_count": 172,
   "metadata": {
    "collapsed": false
   },
   "outputs": [
    {
     "data": {
      "text/plain": [
       "1.3280438914733419"
      ]
     },
     "execution_count": 172,
     "metadata": {},
     "output_type": "execute_result"
    }
   ],
   "source": [
    "lassocv.alpha_"
   ]
  },
  {
   "cell_type": "code",
   "execution_count": 173,
   "metadata": {
    "collapsed": false
   },
   "outputs": [
    {
     "data": {
      "text/plain": [
       "242903.02156754184"
      ]
     },
     "execution_count": 173,
     "metadata": {},
     "output_type": "execute_result"
    }
   ],
   "source": [
    "lasso = Lasso(max_iter=10000)\n",
    "lasso.set_params(alpha=lassocv.alpha_)\n",
    "lasso.fit(X, y)\n",
    "mean_squared_error(y, lasso.predict(X))"
   ]
  },
  {
   "cell_type": "markdown",
   "metadata": {},
   "source": [
    "The MSE is a little higher than in ridge regression, but the alpha value is higher. "
   ]
  },
  {
   "cell_type": "markdown",
   "metadata": {},
   "source": [
    "__Exercise 2.4__ (15 pts) Obtain the 'best' active set from 2.3, and create a new design matrix with only these variables.  Use this to predict the categorical variable $z$ with logistic regression. "
   ]
  },
  {
   "cell_type": "code",
   "execution_count": 174,
   "metadata": {
    "collapsed": false
   },
   "outputs": [
    {
     "data": {
      "text/plain": [
       "array([ 0,  2,  6,  7, 14, 22, 44, 61, 63, 80, 81, 84])"
      ]
     },
     "execution_count": 174,
     "metadata": {},
     "output_type": "execute_result"
    }
   ],
   "source": [
    "np.where(lassocv.coef_)[0]"
   ]
  },
  {
   "cell_type": "code",
   "execution_count": 175,
   "metadata": {
    "collapsed": false
   },
   "outputs": [],
   "source": [
    "X_a = X[:,np.where(lassocv.coef_)[0]]"
   ]
  },
  {
   "cell_type": "code",
   "execution_count": 176,
   "metadata": {
    "collapsed": false
   },
   "outputs": [
    {
     "data": {
      "text/plain": [
       "(750, 12)"
      ]
     },
     "execution_count": 176,
     "metadata": {},
     "output_type": "execute_result"
    }
   ],
   "source": [
    "X_a.shape"
   ]
  },
  {
   "cell_type": "code",
   "execution_count": 177,
   "metadata": {
    "collapsed": true
   },
   "outputs": [],
   "source": [
    "logistic = LogisticRegression()"
   ]
  },
  {
   "cell_type": "code",
   "execution_count": 178,
   "metadata": {
    "collapsed": true
   },
   "outputs": [],
   "source": [
    "logreg = logistic.fit(X_a,z)"
   ]
  },
  {
   "cell_type": "code",
   "execution_count": 179,
   "metadata": {
    "collapsed": false
   },
   "outputs": [
    {
     "data": {
      "text/plain": [
       "array([[-2.30690657,  0.14071472,  2.78945497,  0.08728932,  0.28342494,\n",
       "         0.0154738 ,  0.05191187,  0.08970397, -0.01060178,  0.02845155,\n",
       "         0.14012701,  0.02108306]])"
      ]
     },
     "execution_count": 179,
     "metadata": {},
     "output_type": "execute_result"
    }
   ],
   "source": [
    "logreg.coef_"
   ]
  },
  {
   "cell_type": "code",
   "execution_count": 180,
   "metadata": {
    "collapsed": false
   },
   "outputs": [
    {
     "data": {
      "text/plain": [
       "0.08666666666666667"
      ]
     },
     "execution_count": 180,
     "metadata": {},
     "output_type": "execute_result"
    }
   ],
   "source": [
    "mean_squared_error(z, logreg.predict(X_a))"
   ]
  },
  {
   "cell_type": "markdown",
   "metadata": {
    "collapsed": true
   },
   "source": [
    "Using the best active set from 2.3, we now have only 12 variables in our design matrix. After predicting z with logistic regression, we have an MSE of 0.0866, which is low. "
   ]
  }
 ],
 "metadata": {
  "anaconda-cloud": {},
  "kernelspec": {
   "display_name": "Python [default]",
   "language": "python",
   "name": "python2"
  },
  "language_info": {
   "codemirror_mode": {
    "name": "ipython",
    "version": 2
   },
   "file_extension": ".py",
   "mimetype": "text/x-python",
   "name": "python",
   "nbconvert_exporter": "python",
   "pygments_lexer": "ipython2",
   "version": "2.7.12"
  }
 },
 "nbformat": 4,
 "nbformat_minor": 2
}
