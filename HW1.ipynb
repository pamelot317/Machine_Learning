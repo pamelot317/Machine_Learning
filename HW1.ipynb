{
 "cells": [
  {
   "cell_type": "markdown",
   "metadata": {},
   "source": [
    "# STA 208: Homework 1\n",
    "This is based on the material in Chapters 2, 3 of 'Elements of Statistical Learning' (ESL), in addition to lectures 1-4.  Chunzhe Zhang came up with the dataset and the analysis in the second section."
   ]
  },
  {
   "cell_type": "markdown",
   "metadata": {},
   "source": [
    "## Instructions\n",
    "\n",
    "We use a script that extracts your answers by looking for cells in between the cells containing the exercise statements (beginning with __Exercise X.X__).  So you \n",
    "\n",
    "- MUST add cells in between the exercise statements and add answers within them and\n",
    "- MUST NOT modify the existing cells, particularly not the problem statement\n",
    "\n",
    "To make markdown, please switch the cell type to markdown (from code) - you can hit 'm' when you are in command mode - and use the markdown language.  For a brief tutorial see: https://daringfireball.net/projects/markdown/syntax\n",
    "\n",
    "In the conceptual exercises you should provide an explanation, with math when necessary, for any answers.  When answering with math you should use basic LaTeX, as in \n",
    "$$E(Y|X=x) = \\int_{\\mathcal{Y}} f_{Y|X}(y|x) dy = \\int_{\\mathcal{Y}} \\frac{f_{Y,X}(y,x)}{f_{X}(x)} dy$$\n",
    "for displayed equations, and $R_{i,j} = 2^{-|i-j|}$ for inline equations.  (To see the contents of this cell in markdown, double click on it or hit Enter in escape mode.)  To see a list of latex math symbols see here: http://web.ift.uib.no/Teori/KURS/WRK/TeX/symALL.html"
   ]
  },
  {
   "cell_type": "markdown",
   "metadata": {},
   "source": [
    "# 1. Conceptual Exercises"
   ]
  },
  {
   "cell_type": "markdown",
   "metadata": {},
   "source": [
    "__Exercise 1.1.__ (5 pts) Recall that the Hamming loss for Binary classification ($y \\in \\{0,1\\}$) is \n",
    "$$l(y,\\hat y) = 1\\{y \\ne \\hat y\\} = (y - \\hat y)^2$$\n",
    "as long as $\\hat y \\in \\{0,1\\}$.\n",
    "This loss can be extended to multiclass classification where there are $K$ possible values that $y$ can take (for example 'dog','cat','squirrel' or 1-5 stars).  Explain how you can re-encode $y$ and $\\hat y$ to be a $K-1$ dimensional vector that generalizes binary classification, and rewrite the loss using vector operations."
   ]
  },
  {
   "cell_type": "markdown",
   "metadata": {},
   "source": [
    "__Solution__:\n",
    "Let $y = (v_1,...,v_{k})^T$, where $v_i = \\{1$ if y = value i; 0 else $\\}$, for $i = 1,...,k$.  \n",
    "Thus, $$l(y,\\hat y) = (v_1 - \\hat v_1,...,v_{k} - \\hat v_{k})(v_1 - \\hat v_1,...,v_{k} - \\hat v_{k})^T$$  \n",
    "This gives the desired generalization and loss function.\n"
   ]
  },
  {
   "cell_type": "markdown",
   "metadata": {},
   "source": [
    "__Exercise 1.2__ (5 pts) Ex. 2.7 in ESL"
   ]
  },
  {
   "cell_type": "markdown",
   "metadata": {},
   "source": [
    "__Solution__:  \n",
    "__(a)__ In linear regression, $\\hat f(X_0) = X_0\\hat\\beta = X_0(X^TX)^{-1}X^TY$  \n",
    "Since $X_0(X^TX)^{-1}X^T$ doesn't depend on y, we have $l(X_0;X)=X_0(X^TX)^{-1}X^T$.  So after matrix multiplication, we can see that $\\hat f(X_0)$ is of the desired form.  \n",
    "In kNN regression, $\\hat f(X_0) = \\frac{1}{k} \\sum_{i=1}^k y_i$, which is the average of the k-nearest neighbors of $X_0$.  So we can rewrite as $\\sum_{i=1}^N \\frac{1}{k}I_{\\{x_i \\in N(x_0)\\}}y_i$, where $N(X_0)$ is the neighborhood of k-nearest neighbors of $X_0$, and the $y_i$ corresponds to the $x_i$. So $l(X_0;X)=\\frac{1}{k}I_{\\{x_i \\in N(x_0)\\}}$ and $\\hat f(X_0)$ is of the desired form.  \n",
    "__(b)__ Note that $X, X_0,$ and $f(X_0)$ are fixed.  \n",
    "$E_{Y|X}((f(X_0) - \\hat f(X_0))^2) = E_{Y|X}(f(X_0)^2-2f(X_0)\\hat f(X_0) + \\hat f(X_0)^2)$  \n",
    "$= f(X_0)^2 - 2f(X_0)E_{Y|X}(\\hat f(X_0)) + E_{Y|X}(\\hat f(X_0))^2 - E_{Y|X}(\\hat f(X_0))^2 + E_{Y|X}(\\hat f(X_0)^2)$  \n",
    "$= (f(X_0) - E_{Y|X}(\\hat f(X_0)))^2 + E_{Y|X}(\\hat f(X_0)^2) - (E_{Y|X}(\\hat f(X_0)))^2$  \n",
    "$= bias^2 + Var(\\hat f(X_0)$  \n",
    "__(c)__ We will use the identity E(X) = E(E(X|Y)) in this part. Note here that only $X_0,$ and $f(X_0)$ are fixed.    \n",
    "$E_{Y,X}((f(X_0) - \\hat f(X_0))^2) = E_{Y,X}(E_{Y|X}((f(X_0) - \\hat f(X_0))^2))$  \n",
    "$= E_{Y,X}((f(X_0) - E_{Y|X}(\\hat f(X_0)))^2 + E_{Y|X}(\\hat f(X_0)^2) - (E_{Y|X}(\\hat f(X_0)))^2)$  \n",
    "$= (f(X_0) - E_{Y,X}(\\hat f(X_0))^2 - E_{Y,X}(\\hat f(X_0)^2) - (E_{Y,X}(\\hat f(X_0)))^2$  \n",
    "$= bias^2 + Var(\\hat f(X_0)$  \n",
    "__(d)__ As we saw in (c), the unconditional mean squared error is the expected value of the conditional mean squared error. "
   ]
  },
  {
   "cell_type": "markdown",
   "metadata": {},
   "source": [
    "__Exercise 1.3__ (5 pts, 1 for each part) Recall that the true risk for a prediction function, $f$, a loss function, $\\ell$, and a joint distribution for $Y,X$ is \n",
    "$$R(f) = E \\ell(y,f(x))$$\n",
    "For a training set $\\{x_i,y_x\\}_{i=1}^n$, the empirical risk is \n",
    "$$R_n = \\frac{1}{n} \\sum_{i=1}^n \\ell(y_i,f(x_i)).$$\n",
    "Let $y = x^\\top \\beta + \\epsilon$ be a linear model for $Y|X$, where $x,\\beta$ are $p$-dimensional such that $\\epsilon$ is Gaussian with mean 0 and variance $\\sigma^2$ (independent of X).\n",
    "Let $\\ell(y,\\hat y) = (y - \\hat y)^2$ be square error loss.\n",
    "\n",
    "1. Show that $f^\\star(x) = x^\\top \\beta$ gives the smallest true risk (also known as the Bayes rule).\n",
    "1. Why can't we use this prediction in practice?\n",
    "1. Recall that OLS is the empirical risk minimizer for linear functions.  Why does this tell us the following:\n",
    "$$ E R_n (\\hat f) \\le R(f^\\star)$$\n",
    "1. How do we know that $E R_n (\\hat f) \\le R(\\hat f)$? and use this to answer Ex. 2.9 in ESL.  \n",
    "1. What about this was specific to OLS and least squares loss (can this be generalized)?  What is the most general statement that you can think of that you can prove in this way?"
   ]
  },
  {
   "cell_type": "markdown",
   "metadata": {},
   "source": [
    "__Solution:__  \n",
    "__(1)__ $R(f^\\star)=E(\\ell(y, f^\\star(x))) = E((X^T\\beta + \\epsilon - X^T\\beta)^2) = E(0) = 0$, which is clearly the smallest risk possible.  \n",
    "__(2)__ We can't use this prediction because we don't know $\\beta$.  \n",
    "__(3)__ First, $R_n(\\hat f) = \\frac{1}{n}\\sum_{i=1}^n(y_i-\\hat f(x_i))^2 = \\frac{1}{n}\\sum_{i=1}^n(y_i-(x_{i1}\\hat\\beta_1+...+x_{ip}\\hat\\beta_p))^2$, where each $\\hat\\beta_i$ was chosen to minimize this sum. Now, $R(f^\\star) = \\frac{1}{n}\\sum_{i=1}^n(y_i-f^\\star(x_i))^2 = \\frac{1}{n}\\sum_{i=1}^n(y_i-(x_{i1}\\beta_1+...+x_{ip}\\beta_p))^2$.  \n",
    "Thus, $R_n(\\hat f) \\le R_n(f^\\star)$ because $\\hat f$ was fitted to the data by minimizing $\\ell$ at each $(x_i,y_i)$.  \n",
    "So $E(R_n(\\hat f)) \\le E(R_n(f^\\star) = R(f^\\star)$ since $\\beta$ is fixed.  \n",
    "__(4)__ We can deduce that $R(f^\\star) \\le R(\\hat f)$ by part (1).  \n",
    "So $E(R_n(\\hat f)) \\le R(f^\\star) \\le R(\\hat f) \\Rightarrow E(R_n(\\hat f)) \\le R(\\hat f)$.  \n",
    "Solution to ex 2.9 in ESL:  \n",
    "$R_{tr}(\\beta)$ corresponds to $R_n(\\beta)$ in (3) and (4).  \n",
    "We also know from (4) that $E(R_{tr}(\\beta)) \\le R(\\hat\\beta))$  \n",
    "So $E(R_{tr}(\\beta)) \\le (E(y - \\hat\\beta^Tx)^2) = E(R_{te}(\\beta))$ since $E(\\frac{1}{m}\\sum_{i=1}^m(\\tilde{y_i} - \\hat\\beta^T\\tilde{x_i})^2) = E(\\tilde{y_1}-\\hat\\beta^T\\tilde{x_1})^2)$.  \n",
    "__(5)__ We didn't use linearity directly; we only used the fact that the $\\hat f$ was fit to teh data by minimizing $\\ell$, so for a different $\\ell$, we should see the same results. "
   ]
  },
  {
   "cell_type": "markdown",
   "metadata": {},
   "source": [
    "__Exercise 1.4__ (5 pts) Ex. 3.5 in ESL"
   ]
  },
  {
   "cell_type": "markdown",
   "metadata": {},
   "source": [
    "__Solution:__  \n",
    "We insert zero as $\\bar x_j - \\bar x_j$ to obtain  \n",
    "$\\hat\\beta^{ridge} = \\operatorname{arg\\,min}_\\beta \\{\\sum_{i=1}^N(y_i - \\beta_0 - \\sum_{j=1}^p \\bar x_j\\beta_j - \\sum_{j=1}^p(x_{ij}-\\bar x_j)\\beta_j)^2 + \\lambda \\sum_{j=1}^p\\beta_j^2 \\}$  \n",
    "Now if we define $\\beta_0^C = \\beta_0 + \\sum_{j=1}^p\\bar x_j\\beta_j$ and $\\beta_j^C = \\beta_i$ for $j=2,...,p$, we can rewrite as  \n",
    "$\\operatorname{arg\\,min}_{\\beta^C} \\{\\sum_{i=1}^N(y_i - \\beta_0^C - \\sum_{j=1}^p (x_{ij}-\\bar x_j)\\beta_j^C)^2 + \\lambda \\sum_{j=1}^p\\beta_j^C \\}$  \n",
    "Since we are centering the data, only the intercepts change (the $\\beta_0$). The slopes do not change ($\\beta_j$ for $j=2,...,p$).  \n",
    "For the lasso method:\n",
    "$\\hat\\beta^{lasso} = \\operatorname{arg\\,min}_\\beta \\{\\frac{1}{2}\\sum_{i=1}^N(y_i - \\beta_0 - \\sum_{j=1}^p x_{ij}\\beta_j)^2 + \\lambda \\sum_{j=1}^p|\\beta_j| \\}$  \n",
    "It is clear that we can similarly insert zero as $\\bar x_j - \\bar x_j$ and define $\\beta_0^C$ and $\\beta_i^C$ the same as above to get a similar result (this time with absolute value in the last term and a $\\frac{1}{2}$ in front of the summand). "
   ]
  },
  {
   "cell_type": "markdown",
   "metadata": {},
   "source": [
    "__Exercise 1.5__ (5 pts) Ex 3.9 in ESL"
   ]
  },
  {
   "cell_type": "markdown",
   "metadata": {},
   "source": [
    "__Solution:__\n",
    "Let $X_1 = QR$, where $Q = (q_1,...,q_q)$. Consider a predictor $x_k$ for $q < k \\le p$. The projection of $x_k$ on $span(X_1)$ is given by $P(x_k) = <x_k,q_1>q_1 +...+ <x_k,q_q>q_q$. The current fitted values is the projection of $y$ onto $span(X_1)$, ie, $\\hat y = P(y)$. Adding $x_k$ into the current set of predictors updates the fitted values to be $\\hat y = <y,q_k>q_k$. Thus, the current residual sum of squares is reduced by $<y,q_k>^2$. So we just need to find the predictor that maximizes $<y,q_k>^2$.   \n",
    "\n"
   ]
  },
  {
   "cell_type": "markdown",
   "metadata": {},
   "source": [
    "# 2. Data Analysis"
   ]
  },
  {
   "cell_type": "markdown",
   "metadata": {},
   "source": [
    "## Instructions\n",
    "\n",
    "You will be graded based on several criteria, and each is on a 5 point scale (5 is excellent - A - 1 is poor - C - 0 is not answered - D/F).  You should strive to 'impress us' if you want a 5.  This means excellent code, well explained conclusions, well annotated plots, correct answers, etc.\n",
    "\n",
    "We will be grading you on several criteria:\n",
    "\n",
    "- Conclusions: Conclusions should be consistent with the evidence provided, the conclusion should be well justified, the principles of machine learning that you have learned should be respected (such as overfitting and underfitting etc.)\n",
    "- Correctness of calculations: code should be correct and reflect the principles learned in this course, the logic should be sound, the methods should match the setting and context, you should try many applicable methods that you have learned as long as they apply. \n",
    "- Code, Figures, and Text: Code should be annotated and easy to follow, with docstrings on the functions; captions, titles,  for figures "
   ]
  },
  {
   "cell_type": "markdown",
   "metadata": {},
   "source": [
    "__Exercise 2__ You should run the following code cells to import the code and reduce the variable set.  Address the questions after the code."
   ]
  },
  {
   "cell_type": "code",
   "execution_count": 1,
   "metadata": {
    "collapsed": true
   },
   "outputs": [],
   "source": [
    "import numpy as np\n",
    "import pandas as pd\n",
    "import matplotlib.pyplot as plt\n",
    "from sklearn.preprocessing import scale \n",
    "from sklearn.model_selection import LeaveOneOut\n",
    "from sklearn import linear_model, neighbors\n",
    "%matplotlib inline\n",
    "plt.style.use('ggplot')\n",
    "\n",
    "# dataset path\n",
    "data_dir = \"~/Dropbox/208/208-HW1-pamelot317\""
   ]
  },
  {
   "cell_type": "code",
   "execution_count": 2,
   "metadata": {
    "collapsed": false
   },
   "outputs": [
    {
     "data": {
      "text/html": [
       "<div>\n",
       "<table border=\"1\" class=\"dataframe\">\n",
       "  <thead>\n",
       "    <tr style=\"text-align: right;\">\n",
       "      <th></th>\n",
       "      <th>quality</th>\n",
       "      <th>density</th>\n",
       "      <th>pH</th>\n",
       "      <th>alcohol</th>\n",
       "      <th>time</th>\n",
       "    </tr>\n",
       "  </thead>\n",
       "  <tbody>\n",
       "    <tr>\n",
       "      <th>0</th>\n",
       "      <td>90.0</td>\n",
       "      <td>0.99780</td>\n",
       "      <td>3.51</td>\n",
       "      <td>9.4</td>\n",
       "      <td>5</td>\n",
       "    </tr>\n",
       "    <tr>\n",
       "      <th>1</th>\n",
       "      <td>68.5</td>\n",
       "      <td>0.99620</td>\n",
       "      <td>3.26</td>\n",
       "      <td>10.0</td>\n",
       "      <td>4</td>\n",
       "    </tr>\n",
       "    <tr>\n",
       "      <th>2</th>\n",
       "      <td>110.0</td>\n",
       "      <td>0.99630</td>\n",
       "      <td>3.25</td>\n",
       "      <td>9.2</td>\n",
       "      <td>5</td>\n",
       "    </tr>\n",
       "    <tr>\n",
       "      <th>3</th>\n",
       "      <td>71.5</td>\n",
       "      <td>0.99551</td>\n",
       "      <td>3.56</td>\n",
       "      <td>10.8</td>\n",
       "      <td>5</td>\n",
       "    </tr>\n",
       "    <tr>\n",
       "      <th>4</th>\n",
       "      <td>110.0</td>\n",
       "      <td>0.99600</td>\n",
       "      <td>3.28</td>\n",
       "      <td>9.8</td>\n",
       "      <td>6</td>\n",
       "    </tr>\n",
       "  </tbody>\n",
       "</table>\n",
       "</div>"
      ],
      "text/plain": [
       "   quality  density    pH  alcohol  time\n",
       "0     90.0  0.99780  3.51      9.4     5\n",
       "1     68.5  0.99620  3.26     10.0     4\n",
       "2    110.0  0.99630  3.25      9.2     5\n",
       "3     71.5  0.99551  3.56     10.8     5\n",
       "4    110.0  0.99600  3.28      9.8     6"
      ]
     },
     "execution_count": 2,
     "metadata": {},
     "output_type": "execute_result"
    }
   ],
   "source": [
    "sample_data = pd.read_csv(data_dir+\"/hw1.csv\", delimiter=',')\n",
    "sample_data.head()"
   ]
  },
  {
   "cell_type": "markdown",
   "metadata": {},
   "source": [
    "The response variable is quality. "
   ]
  },
  {
   "cell_type": "code",
   "execution_count": 3,
   "metadata": {
    "collapsed": false
   },
   "outputs": [],
   "source": [
    "X = np.array(sample_data.iloc[:,range(1,5)])\n",
    "y = np.array(sample_data.iloc[:,0])"
   ]
  },
  {
   "cell_type": "code",
   "execution_count": 4,
   "metadata": {
    "collapsed": true
   },
   "outputs": [],
   "source": [
    "def loo_risk(X,y,regmod):\n",
    "    \"\"\"\n",
    "    Construct the leave-one-out square error risk for a regression model\n",
    "    \n",
    "    Input: design matrix, X, response vector, y, a regression model, regmod\n",
    "    Output: scalar LOO risk\n",
    "    \"\"\"\n",
    "    loo = LeaveOneOut()\n",
    "    loo_losses = []\n",
    "    for train_index, test_index in loo.split(X):\n",
    "        X_train, X_test = X[train_index], X[test_index]\n",
    "        y_train, y_test = y[train_index], y[test_index]\n",
    "        regmod.fit(X_train,y_train)\n",
    "        y_hat = regmod.predict(X_test)\n",
    "        loss = np.sum((y_hat - y_test)**2)\n",
    "        loo_losses.append(loss)\n",
    "    return np.mean(loo_losses)\n",
    "\n",
    "def emp_risk(X,y,regmod):\n",
    "    \"\"\"\n",
    "    Return the empirical risk for square error loss\n",
    "    \n",
    "    Input: design matrix, X, response vector, y, a regression model, regmod\n",
    "    Output: scalar empirical risk\n",
    "    \"\"\"\n",
    "    regmod.fit(X,y)\n",
    "    y_hat = regmod.predict(X)\n",
    "    return np.mean((y_hat - y)**2)"
   ]
  },
  {
   "cell_type": "markdown",
   "metadata": {},
   "source": [
    "__Exercise 2.1__ (5 pts) Compare the leave-one-out risk with the empirical risk for linear regression, on this dataset."
   ]
  },
  {
   "cell_type": "code",
   "execution_count": 5,
   "metadata": {
    "collapsed": false
   },
   "outputs": [
    {
     "name": "stdout",
     "output_type": "stream",
     "text": [
      "LOO Risk: 243.53350804\n",
      "Emp Risk: 242.27402643\n"
     ]
    }
   ],
   "source": [
    "lin1 = linear_model.LinearRegression(fit_intercept=False)\n",
    "print('LOO Risk: '+ str(loo_risk(X,y,lin1)))\n",
    "print('Emp Risk: ' + str(emp_risk(X,y,lin1)))"
   ]
  },
  {
   "cell_type": "markdown",
   "metadata": {},
   "source": [
    "We can see that the emperical risk is lower than the LOO risk, which is expected, but it is not a lot lower because n (the number of data points) is high. "
   ]
  },
  {
   "cell_type": "markdown",
   "metadata": {},
   "source": [
    "__Exercise 2.2__ (10 pts) Perform kNN regression and compare the leave-one-out risk with the empirical risk for k from 1 to 50.  Remark on the tradeoff between bias and variance for this dataset and compare against linear regression."
   ]
  },
  {
   "cell_type": "code",
   "execution_count": 6,
   "metadata": {
    "collapsed": true
   },
   "outputs": [],
   "source": [
    "knn = neighbors.KNeighborsRegressor(n_neighbors=5)"
   ]
  },
  {
   "cell_type": "code",
   "execution_count": 13,
   "metadata": {
    "collapsed": false
   },
   "outputs": [
    {
     "data": {
      "image/png": "[encoded data removed]",
      "text/plain": [
       "<matplotlib.figure.Figure at 0x10436a6d0>"
      ]
     },
     "metadata": {},
     "output_type": "display_data"
    }
   ],
   "source": [
    "LOOs = []\n",
    "MSEs = []\n",
    "K=50\n",
    "Ks = range(1,K+1)\n",
    "for k in Ks:\n",
    "    knn = neighbors.KNeighborsRegressor(n_neighbors=k)\n",
    "    LOOs.append(loo_risk(X,y,knn))\n",
    "    MSEs.append(emp_risk(X,y,knn))\n",
    "\n",
    "plt.plot(Ks,LOOs,'r',label=\"LOO risk\")\n",
    "plt.title(\"Risks for kNN Regression\")\n",
    "plt.plot(Ks,MSEs,'b',label=\"Emp risk\")\n",
    "plt.legend()\n",
    "_ = plt.xlabel('k')"
   ]
  },
  {
   "cell_type": "code",
   "execution_count": 16,
   "metadata": {
    "collapsed": false
   },
   "outputs": [
    {
     "data": {
      "text/plain": [
       "233.81674477000831"
      ]
     },
     "execution_count": 16,
     "metadata": {},
     "output_type": "execute_result"
    }
   ],
   "source": [
    "LOOs[13]"
   ]
  },
  {
   "cell_type": "markdown",
   "metadata": {},
   "source": [
    "We can see that the LOO risk stops improving after about k=13, but it doesn't appear that bias starts to really dominate until about k = 18, where we begin to see the LOO risk going back up. With low k, the variance is high, so we see the LOO risk is high (since leaving one out will drastically affect the outcome with small k). As we increase k, we see the LOO risk improve, until the bias starts to dominate. The LOO risk at k=13 is about 233.18, which is better than the LOO for linear regression that we saw above. "
   ]
  },
  {
   "cell_type": "markdown",
   "metadata": {},
   "source": [
    "__Exercise 2.3__ (10 pts) Implement forward stepwise regression (ESL section 3.3.2) for the linear model and compare the LOO risk for each stage.  Recall that at each step forward stepwise regression will select a new variable that most improves the empirical risk and include that in the model (starting with the intercept)."
   ]
  },
  {
   "cell_type": "code",
   "execution_count": 7,
   "metadata": {
    "collapsed": false
   },
   "outputs": [],
   "source": [
    "n,p = X.shape\n",
    "Xsc = scale(X)\n",
    "ysc = scale(y)"
   ]
  },
  {
   "cell_type": "code",
   "execution_count": 8,
   "metadata": {
    "collapsed": false
   },
   "outputs": [],
   "source": [
    "def subsetR(subset, Xsc, ysc, n):\n",
    "    \"\"\"Fits model and computes empirical risk for a given subset of features\n",
    "    input: a list of feature indices, scaled X and y matrices, number of rows of Xsc\n",
    "    output: the empirical for the linear regression model fitted to those features\"\"\"\n",
    "    lin1 = linear_model.LinearRegression(fit_intercept=False)\n",
    "    model = lin1.fit(Xsc[:,subset], ysc)\n",
    "    R = (((model.predict(Xsc[:,subset]) - ysc) ** 2).sum())/n\n",
    "    LOO = loo_risk(Xsc[:,subset],ysc,lin1)\n",
    "    return {'model': subset, 'R':R, 'LOO': LOO}\n",
    "\n",
    "def forward(pred, Xsc, ysc, n):\n",
    "    \"\"\"Peforms one step of the forward stepwise regression algorithm and returns an updated list of indices\n",
    "    of predictors\n",
    "    input: list of indices of predictor variables that have been accepted, scaled X and y matrices, number of rows\n",
    "    output: updated list of indices of predictor variables that have been accepted\"\"\"\n",
    "    rem_pred = [p for p in pd.DataFrame(Xsc).columns if p not in pred]\n",
    "    results = []\n",
    "    for p in rem_pred:\n",
    "        results.append(subsetR(pred+[p], Xsc, ysc, n))\n",
    "    models = pd.DataFrame(results)\n",
    "    best_model = models.loc[models['R'].argmin()]\n",
    "    return best_model"
   ]
  },
  {
   "cell_type": "code",
   "execution_count": 10,
   "metadata": {
    "collapsed": false
   },
   "outputs": [],
   "source": [
    "pred = []\n",
    "final_models = pd.DataFrame(columns=['LOO', 'R', 'model'])\n",
    "\n",
    "for i in range(p):\n",
    "    final_models.loc[i] = forward(pred, Xsc, ysc, n)\n",
    "    pred = final_models.loc[i]['model']"
   ]
  },
  {
   "cell_type": "code",
   "execution_count": 11,
   "metadata": {
    "collapsed": false
   },
   "outputs": [
    {
     "data": {
      "text/html": [
       "<div>\n",
       "<table border=\"1\" class=\"dataframe\">\n",
       "  <thead>\n",
       "    <tr style=\"text-align: right;\">\n",
       "      <th></th>\n",
       "      <th>LOO</th>\n",
       "      <th>R</th>\n",
       "      <th>model</th>\n",
       "    </tr>\n",
       "  </thead>\n",
       "  <tbody>\n",
       "    <tr>\n",
       "      <th>0</th>\n",
       "      <td>0.853223</td>\n",
       "      <td>0.852019</td>\n",
       "      <td>[3]</td>\n",
       "    </tr>\n",
       "    <tr>\n",
       "      <th>1</th>\n",
       "      <td>0.809525</td>\n",
       "      <td>0.807354</td>\n",
       "      <td>[3, 1]</td>\n",
       "    </tr>\n",
       "    <tr>\n",
       "      <th>2</th>\n",
       "      <td>0.802668</td>\n",
       "      <td>0.799527</td>\n",
       "      <td>[3, 1, 2]</td>\n",
       "    </tr>\n",
       "    <tr>\n",
       "      <th>3</th>\n",
       "      <td>0.803733</td>\n",
       "      <td>0.799518</td>\n",
       "      <td>[3, 1, 2, 0]</td>\n",
       "    </tr>\n",
       "  </tbody>\n",
       "</table>\n",
       "</div>"
      ],
      "text/plain": [
       "        LOO         R         model\n",
       "0  0.853223  0.852019           [3]\n",
       "1  0.809525  0.807354        [3, 1]\n",
       "2  0.802668  0.799527     [3, 1, 2]\n",
       "3  0.803733  0.799518  [3, 1, 2, 0]"
      ]
     },
     "execution_count": 11,
     "metadata": {},
     "output_type": "execute_result"
    }
   ],
   "source": [
    "final_models"
   ]
  },
  {
   "cell_type": "markdown",
   "metadata": {},
   "source": [
    "We can see that the best LOO risk occurs for a model with $X_2, X_3,$ and $X_4$, whereas the forward stepwise regression chose to include all of the $X$ variables when comparing the empirical risk. "
   ]
  }
 ],
 "metadata": {
  "anaconda-cloud": {},
  "kernelspec": {
   "display_name": "Python [default]",
   "language": "python",
   "name": "python2"
  },
  "language_info": {
   "codemirror_mode": {
    "name": "ipython",
    "version": 2
   },
   "file_extension": ".py",
   "mimetype": "text/x-python",
   "name": "python",
   "nbconvert_exporter": "python",
   "pygments_lexer": "ipython2",
   "version": "2.7.12"
  }
 },
 "nbformat": 4,
 "nbformat_minor": 2
}
