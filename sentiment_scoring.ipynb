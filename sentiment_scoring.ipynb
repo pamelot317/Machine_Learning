{
 "cells": [
  {
   "cell_type": "code",
   "execution_count": 38,
   "metadata": {
    "collapsed": true
   },
   "outputs": [],
   "source": [
    "import pandas as pd\n",
    "import numpy as np\n",
    "from collections import Counter\n",
    "import matplotlib.pyplot as plt"
   ]
  },
  {
   "cell_type": "code",
   "execution_count": 2,
   "metadata": {
    "collapsed": true
   },
   "outputs": [],
   "source": [
    "motley = pd.read_csv('motleyfool.csv')\n",
    "\n",
    "negative = pd.read_csv('negative-words.txt', sep = ' ', header = None)\n",
    "\n",
    "positive = pd.read_csv('positive-words.txt', sep=' ', header=None)\n",
    "\n",
    "def score_word(word):\n",
    "    \"\"\"\n",
    "    returns -1 if negative meaning, +1 if positive meaning,\n",
    "    else 0\n",
    "    \n",
    "    input: a word\n",
    "    ouput: -1, 0, or + 1\n",
    "    \"\"\"\n",
    "    if word.lower() in negative.values:\n",
    "        return -1\n",
    "    elif word.lower() in positive.values:\n",
    "        return +1\n",
    "    return 0\n",
    "\n",
    "def get_scores(article):\n",
    "    \"\"\"\n",
    "    returns sentiment scores for a given article\n",
    "    \n",
    "    input: an article\n",
    "    output: sentiment score\n",
    "    \"\"\"\n",
    "    wordsArticle = article.split(' ')\n",
    "    scores = [score_word(word) for word in wordsArticle]\n",
    "    return sum(scores)\n",
    "\n",
    "motley['sentiment'] = motley['article'].apply(get_scores)\n",
    "\n",
    "plt.hist(motley.sentiment, bins=50)\n",
    "plt.xlabel('sentiment scores')\n",
    "plt.ylabel('frequency')\n",
    "plt.title('Distribution of sentiment scores of articles');"
   ]
  },
  {
   "cell_type": "code",
   "execution_count": 50,
   "metadata": {
    "collapsed": true
   },
   "outputs": [],
   "source": [
    "motley.to_csv('motley_with_s_scores.csv', encoding='utf-8')"
   ]
  },
  {
   "cell_type": "code",
   "execution_count": null,
   "metadata": {
    "collapsed": true
   },
   "outputs": [],
   "source": []
  },
  {
   "cell_type": "code",
   "execution_count": null,
   "metadata": {
    "collapsed": true
   },
   "outputs": [],
   "source": []
  },
  {
   "cell_type": "code",
   "execution_count": null,
   "metadata": {
    "collapsed": true
   },
   "outputs": [],
   "source": []
  },
  {
   "cell_type": "code",
   "execution_count": null,
   "metadata": {
    "collapsed": true
   },
   "outputs": [],
   "source": []
  },
  {
   "cell_type": "code",
   "execution_count": null,
   "metadata": {
    "collapsed": true
   },
   "outputs": [],
   "source": []
  },
  {
   "cell_type": "code",
   "execution_count": null,
   "metadata": {
    "collapsed": true
   },
   "outputs": [],
   "source": []
  },
  {
   "cell_type": "code",
   "execution_count": null,
   "metadata": {
    "collapsed": true
   },
   "outputs": [],
   "source": []
  }
 ],
 "metadata": {
  "anaconda-cloud": {},
  "kernelspec": {
   "display_name": "Python [default]",
   "language": "python",
   "name": "python2"
  },
  "language_info": {
   "codemirror_mode": {
    "name": "ipython",
    "version": 2
   },
   "file_extension": ".py",
   "mimetype": "text/x-python",
   "name": "python",
   "nbconvert_exporter": "python",
   "pygments_lexer": "ipython2",
   "version": "2.7.12"
  }
 },
 "nbformat": 4,
 "nbformat_minor": 2
}
